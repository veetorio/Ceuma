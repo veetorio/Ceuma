{
 "cells": [
  {
   "cell_type": "markdown",
   "metadata": {},
   "source": [
    "# Seção 1.3 Padrões e unidades"
   ]
  },
  {
   "cell_type": "markdown",
   "metadata": {},
   "source": [
    "### De acordo com o rótulo de um frasco de molho para salada, o volume do conteúdo é de 0,473 litro(L). Usando apenas a conversão 1 L  1.000 cm3,expresse esse volume em milímetros cúbicos."
   ]
  },
  {
   "cell_type": "code",
   "execution_count": 62,
   "metadata": {},
   "outputs": [
    {
     "name": "stdout",
     "output_type": "stream",
     "text": [
      "0.5L corresponde a 500.0cm³\n"
     ]
    }
   ],
   "source": [
    "# constantes do codigo\n",
    "const_cmCubico = 10**3\n",
    "\n",
    "entrada_litros = float(input('coloque a quantidades em litros :')) # entrada em litros \n",
    "cmCubico = entrada_litros * const_cmCubico # conversão em cm cubicos\n",
    "print(f'{entrada_litros}L corresponde a {cmCubico}cm³')## saida\n"
   ]
  },
  {
   "cell_type": "markdown",
   "metadata": {},
   "source": [
    "### A densidade do ouro é 19,3 g/cm3. Qual é esse valor em quilogramas por metro cúbico?"
   ]
  },
  {
   "cell_type": "code",
   "execution_count": 64,
   "metadata": {},
   "outputs": [
    {
     "name": "stdout",
     "output_type": "stream",
     "text": [
      "a densidade  19.3g/cm³ corresponde a 0.0193kg/m³\n"
     ]
    }
   ],
   "source": [
    "#constantes de codigo\n",
    "const_conversor = 10**-3\n",
    "\n",
    "# type: ignore\n",
    "densidade_inicial = float(input('coloque a densidade em g/cm³ :'))# co\n",
    "densidade_final = densidade_inicial * const_conversor;\n",
    "print(f'a densidade  {densidade_inicial}g/cm³ corresponde a {densidade_final}kg/m³')\n"
   ]
  },
  {
   "cell_type": "markdown",
   "metadata": {},
   "source": [
    "### Um campo quadrado que mede 100,0 m por 100,0 mpossui uma área de 1,0 hectare. Um acre corresponde a uma área de 4.046,84 m2. Se um terreno possui uma área de 12,0 acres, qual é sua área em hectares?"
   ]
  },
  {
   "cell_type": "code",
   "execution_count": 2,
   "metadata": {},
   "outputs": [
    {
     "name": "stdout",
     "output_type": "stream",
     "text": [
      "A area em acre 12.0 e 4.86hec\n"
     ]
    }
   ],
   "source": [
    "#constante do codigo\n",
    "const_ac = 4046.84\n",
    "const_Hecta = 10**4\n",
    "\n",
    "\n",
    "entrada_ac = float(input('coloque um valor em acre de area :'))\n",
    "Hecta = (entrada_ac*const_ac)/const_Hecta\n",
    "print(f'A area em acre {entrada_ac} e {Hecta:.2f}h')"
   ]
  },
  {
   "cell_type": "markdown",
   "metadata": {},
   "source": [
    "### Ao dirigir em um país exótico, você vê um aviso de limite máximo de velocidade de 100 mi/h na rodovia. Expresse esse limite em km/h e em m/s."
   ]
  },
  {
   "cell_type": "code",
   "execution_count": 7,
   "metadata": {},
   "outputs": [
    {
     "name": "stdout",
     "output_type": "stream",
     "text": [
      "100.0mi/h corresponde em 160.934km/h e 44.70m/s\n"
     ]
    }
   ],
   "source": [
    "#constantes do codigo \n",
    "const_mi = 1.60934\n",
    "\n",
    "\n",
    "\n",
    "distance = float(input('coloque a distancia em mi :'))\n",
    "velocidad_km = const_mi*distance\n",
    "velocidad_m = velocidad_km/3.6\n",
    "print(f'{distance}mi/h corresponde em {velocidad_km}km/h e {velocidad_m:.2f}m/s')"
   ]
  },
  {
   "cell_type": "markdown",
   "metadata": {},
   "source": [
    "### As seguintes conversões ocorrem com frequência emfísica e são muito úteis. \n",
    " * Considere 1 mi  5.280 pés e 1 h3.600 s para converter 60 mph em unidades de pés/s. \n",
    " * A aceleração de um objeto em queda livre é de 32 pés/s2. Considere1 pé = 30,48 cm para expressar essa aceleração em unidades de m/s2 \n",
    " * A densidade da água é 1,0 g/cm3 Converta essa densidade em unidades de kg/m3"
   ]
  },
  {
   "cell_type": "code",
   "execution_count": 11,
   "metadata": {},
   "outputs": [
    {
     "name": "stdout",
     "output_type": "stream",
     "text": [
      "1.4666666666666666\n",
      "0.3048\n",
      "1000.0\n"
     ]
    }
   ],
   "source": [
    "# constantes do codigo\n",
    "const_mi_pe = 5280\n",
    "const_pe_cm = 30.48\n",
    "const_kgParaM = 10**3\n",
    "\n",
    "# Considere 1 mi  5.280 pés e 1 h3.600 s para converter 60 mph em unidades de pés/s. \n",
    "distance_mi = float(input('digite o valor de entrada em milhas'))\n",
    "dp= distance_mi*const_mi_pe/3600\n",
    "print(dp)\n",
    "\n",
    "# A aceleração de um objeto em queda livre é de 32 pés/s2. Considere1 pé = 30,48 cm para expressar essa aceleração em unidades de m/s2 \n",
    "a = float(input('digite o valor de entrada em aceleração em pes'))\n",
    "dpc = a * const_pe_cm * 10**-2\n",
    "print(dpc)\n",
    "\n",
    "# A densidade da água é 1,0 g/cm3 Converta essa densidade em unidades de kg/m3\n",
    "Densi = float(input('digite o valor de a densidade em g/cm'))\n",
    "Df = Densi*1000\n",
    "print(Df)\n"
   ]
  },
  {
   "cell_type": "markdown",
   "metadata": {},
   "source": [
    "### \n",
    " * (a) A dose diária recomendada (DDR) do metal demagnésio é 410 mg/dia para homens. Expresse essa quantidade em g/dia.\n",
    " * (b) Para adultos, a DDR do aminoácido lisina é de 12 mg por kg de massa corporal. Quantos gramas por dia um adulto de 75 kg deveria receber?\n",
    " * (c) Uma cápsula multivitamínica pode conter 2,0 mg de vitamina B2(riboflavina) e a DDR é de 0,0030 g/dia. Quantas dessas cápsulas uma pessoa deverá tomar a cada dia para obter a quantidade adequada dessa vitamina, se não receber nada de outras fontes? \n",
    " * (d) A DDR para o microelemento selênio é 0,000070 g/dia. Expresse essa dose em mg/dia."
   ]
  },
  {
   "cell_type": "code",
   "execution_count": 25,
   "metadata": {},
   "outputs": [
    {
     "name": "stdout",
     "output_type": "stream",
     "text": [
      "0.00g/d\n",
      "12.0g/d\n",
      "1.5/d\n"
     ]
    }
   ],
   "source": [
    "# A dose diária recomendada (DDR) do metal demagnésio é 410 mg/dia para homens. Expresse essa quantidade em g/dia.\n",
    "dosagem = float(input('digite o valor de a densidade em g/cm'))\n",
    "dosagemF = dosagem * 10**-3\n",
    "print(f'{dosagemF:.2f}g/d')\n",
    "\n",
    "#\n",
    "peso = float(input('digite o valor de a densidade em g/cm'))\n",
    "dosagemAoDia = peso * 12\n",
    "print(f'{dosagemAoDia}g/d')\n",
    "\n",
    "#\n",
    "dosagemG = float(input('digite o valor de a densidade em g/cm'))\n",
    "dosagemG = dosagemG * 10**-3\n",
    "caps = 0.003/dosagemG\n",
    "print(f'{caps}/d')\n",
    "\n"
   ]
  },
  {
   "cell_type": "markdown",
   "metadata": {},
   "source": [
    "# ola bobões"
   ]
  },
  {
   "cell_type": "markdown",
   "metadata": {},
   "source": [
    "1.1 hello\n"
   ]
  }
 ],
 "metadata": {
  "kernelspec": {
   "display_name": "Python 3",
   "language": "python",
   "name": "python3"
  },
  "language_info": {
   "codemirror_mode": {
    "name": "ipython",
    "version": 3
   },
   "file_extension": ".py",
   "mimetype": "text/x-python",
   "name": "python",
   "nbconvert_exporter": "python",
   "pygments_lexer": "ipython3",
   "version": "3.12.0"
  }
 },
 "nbformat": 4,
 "nbformat_minor": 2
}
