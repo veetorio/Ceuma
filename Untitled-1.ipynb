{
 "cells": [
  {
   "cell_type": "markdown",
   "metadata": {},
   "source": [
    "# Seção 1.3 Padrões e unidades"
   ]
  },
  {
   "cell_type": "markdown",
   "metadata": {},
   "source": [
    "#### De acordo com o rótulo de um frasco de molho para salada, o volume do conteúdo é de 0,473 litro(L). Usando apenas a conversão 1 L  1.000 cm3,expresse esse volume em milímetros cúbicos.\n",
    "\n",
    "* $V_{0}$= 0,473L\n",
    "* 1L = $10^{3}cm^3$\n",
    "\n",
    "* V = ($V_{0}$ x $10^{3}$)$cm^{3}$ $\\Rightarrow$ (0,473 x 1000)$cm^{3}$\n",
    "* V = $473cm^{3}$"
   ]
  },
  {
   "cell_type": "code",
   "execution_count": 15,
   "metadata": {},
   "outputs": [
    {
     "name": "stdout",
     "output_type": "stream",
     "text": [
      "0.473L corresponde a 473.0cm³\n"
     ]
    }
   ],
   "source": [
    "# constantes do codigo\n",
    "const_cmCubico = 10**3\n",
    "\n",
    "entrada_litros = float(input('coloque a quantidades em litros :')) # entrada em litros \n",
    "cmCubico = entrada_litros * const_cmCubico # conversão em cm cubicos\n",
    "print(f'{entrada_litros}L corresponde a {cmCubico}cm³')## saida\n"
   ]
  },
  {
   "cell_type": "markdown",
   "metadata": {},
   "source": [
    "#### A densidade do ouro é 19,3 g/cm3. Qual é esse valor em quilogramas por metro cúbico?\n",
    " * $1cm^{3} = 10^{-6}m^{3}$ \n",
    " * $1g = 10^{-3}kg$\n",
    "\n",
    " * #### $\\frac{19,3g}{cm^{3}}$ $\\Rightarrow$ $\\frac{((19,3) (10^{-3}))kg}{((10^{-3})(10^{-3}))m^{3}}$ $\\Rightarrow$ $\\frac{(19,3)kg}{10^{-3}m^{3}}$ $\\Rightarrow$ $\\frac{(19,3)(10^{3})kg}{m^{3}}$, $\\therefore$ solução é $\\frac{19300kg}{m^{3}}$\n",
    "\n",
    "\n",
    "\n",
    " "
   ]
  },
  {
   "cell_type": "code",
   "execution_count": 14,
   "metadata": {},
   "outputs": [
    {
     "name": "stdout",
     "output_type": "stream",
     "text": [
      "a densidade  19.3g/cm³ corresponde a 0.0193kg/m³\n"
     ]
    }
   ],
   "source": [
    "#constantes de codigo\n",
    "const_conversor = 10**-3\n",
    "\n",
    "# type: ignore\n",
    "densidade_inicial = float(input('coloque a densidade em g/cm³ :'))# co\n",
    "densidade_final = densidade_inicial * const_conversor;\n",
    "print(f'a densidade  {densidade_inicial}g/cm³ corresponde a {densidade_final}kg/m³')\n"
   ]
  },
  {
   "cell_type": "markdown",
   "metadata": {},
   "source": [
    "### Um campo quadrado que mede 100,0 m por 100,0 mpossui uma área de 1,0 hectare. Um acre corresponde a uma área de 4.046,84 m2. Se um terreno possui uma área de 12,0 acres, qual é sua área em hectares?\n",
    "\n",
    " * 1ha = $10^{4}$\n",
    " * 1ac = $4.046,84 m^{2}$\n",
    " * $A$ = $\\frac{12ac}{1ha}$ $\\Rightarrow$ $\\frac{12(4.046.84)}{10^{4}}$ $\\Rightarrow$ $\\frac{48563.08 m^{2}}{10^{4}}$ , $\\therefore$ a solução é A = 4.85ha"
   ]
  },
  {
   "cell_type": "code",
   "execution_count": null,
   "metadata": {},
   "outputs": [],
   "source": [
    "#constante do codigo\n",
    "const_ac = 4046.84\n",
    "const_Hecta = 10**4\n",
    "\n",
    "\n",
    "entrada_ac = float(input('coloque um valor em acre de area :'))\n",
    "Hecta = (entrada_ac*const_ac)/const_Hecta\n",
    "print(f'A area em acre {entrada_ac} e {Hecta:.2f}h')"
   ]
  },
  {
   "cell_type": "markdown",
   "metadata": {},
   "source": [
    "### Ao dirigir em um país exótico, você vê um aviso de limite máximo de velocidade de 100 mi/h na rodovia. Expresse esse limite em km/h e em m/s.\n",
    " * $v_{m} = \\frac{100mi}{h}$\n",
    " * 1mi = 1,60934km\n",
    " #### converter as 100 milhas em km :\n",
    " * s = (1,60934)(100)km $\\Rightarrow$ d = 160,934km\n",
    " #### converter as mi/h para km/h\n",
    " * $v_{m} = \\frac{\\Delta{s}}{t} $\n",
    "\n",
    " * $v_{m} = \\frac{160,934km}{h} $\n",
    " #### converter as km/h para m/s\n",
    " * $v_{m} = \\frac{\\frac{160,934km}{h}}{3,6}$ $\\Rightarrow$ $v_{m} = \\frac{40,70m}{s}$"
   ]
  },
  {
   "cell_type": "code",
   "execution_count": 5,
   "metadata": {},
   "outputs": [
    {
     "name": "stdout",
     "output_type": "stream",
     "text": [
      "100.0mi/h corresponde em 160.934km/h e 44.70m/s\n"
     ]
    }
   ],
   "source": [
    "#constantes do codigo \n",
    "const_mi = 1.60934\n",
    "\n",
    "\n",
    "\n",
    "distance = float(input('coloque a distancia em mi :'))\n",
    "velocidad_km = const_mi*distance\n",
    "velocidad_m = velocidad_km/3.6\n",
    "print(f'{distance}mi/h corresponde em {velocidad_km}km/h e {velocidad_m:.2f}m/s')"
   ]
  },
  {
   "cell_type": "markdown",
   "metadata": {},
   "source": [
    "### As seguintes conversões ocorrem com frequência em física e são muito úteis. \n",
    " * (a) Considere 1 mi =  5.280pés e 1 h = 3.600s para converter 60 mph em unidades de pés/s. \n",
    " \n",
    "   * 60mph = $\\frac{(60)mi}{h}$\n",
    "\n",
    "   * 60mph = $\\frac{(60)5280pés}{3600s}$\n",
    "\n",
    "   * 60mph = $\\frac{316800pés}{3600s}$\n",
    "\n",
    "   * 60mph = $\\frac{88pés}{s}$\n",
    " * (b) A aceleração de um objeto em queda livre é de 32 pés/s2. Considere1 pé = 30,48 cm para expressar essa aceleração em unidades de m/s2\n",
    "   #### converter pés em cm, e cm em metros :\n",
    "   * $s_{cm} = 30,48cm$\n",
    "\n",
    "   * $s_{m} = 30,48(10^{-2})m$\n",
    "\n",
    "   * $\\frac{d_{m}}{s^{2}}$, $\\therefore$  a solução é  $\\frac{0.3048m}{s^{2}}$\n",
    "\n",
    " * (c) A densidade da água é 1,0 g/cm3 Converta essa densidade em unidades de kg/m^{3}$\n",
    "   * D = $\\frac{1g}{cm^{3}}$ \n",
    "   * $D_{kg/m} = \\frac{D(10^{-3})kg}{m^{3}}$ $\\Rightarrow$ $\\frac{0,001kg}{m^{3}} $\n",
    "\n"
   ]
  },
  {
   "cell_type": "code",
   "execution_count": null,
   "metadata": {},
   "outputs": [],
   "source": [
    "# constantes do codigo\n",
    "const_mi_pe = 5280\n",
    "const_pe_cm = 30.48\n",
    "const_kgParaM = 10**3\n",
    "\n",
    "# Considere 1 mi  5.280 pés e 1 h3.600 s para converter 60 mph em unidades de pés/s. \n",
    "distance_mi = float(input('digite o valor de entrada em milhas'))\n",
    "dp= distance_mi*const_mi_pe/3600\n",
    "print(dp)\n",
    "\n",
    "# A aceleração de um objeto em queda livre é de 32 pés/s2. Considere1 pé = 30,48 cm para expressar essa aceleração em unidades de m/s2 \n",
    "a = float(input('digite o valor de entrada em aceleração em pes'))\n",
    "dpc = a * const_pe_cm * 10**-2\n",
    "print(dpc)\n",
    "\n",
    "# A densidade da água é 1,0 g/cm3 Converta essa densidade em unidades de kg/m3\n",
    "Densi = float(input('digite o valor de a densidade em g/cm'))\n",
    "Df = Densi*1000\n",
    "print(Df)"
   ]
  },
  {
   "cell_type": "markdown",
   "metadata": {},
   "source": [
    "### \n",
    " * (a) A dose diária recomendada (DDR) do metal demagnésio é 410 mg/dia para homens. Expresse essa quantidade em g/dia.\n",
    "  * Converter milígramas em gramas :\n",
    "    1mg = $10^{-3}g$\n",
    "  * Converter milígramas por dia em gramas por dia :\n",
    "  \n",
    "    $\\frac{410mg}{d} \\Rightarrow \\frac{410(10^{-3})g}{d}, \\therefore \\frac{0,41g}{d} $\n",
    " \n",
    " * (b) Para adultos, a DDR do aminoácido lisina é de 12 mg por kg de massa corporal. Quantos gramas por dia um adulto de 75 kg deveria receber?\n",
    "    * 1mg = $10^{-3}g$\n",
    "    * $dosagem = \\frac{(12)(Q_{kg})mg}{d} \\Rightarrow \\frac{(12)(75)(10^{-3})g}{d} \\Rightarrow \\frac{(900)(10^{-3})g}{d}$\n",
    "    * a resposta é $\\frac{0,9g}{d}$\n",
    "    \n",
    " * (c) Uma cápsula multivitamínica pode conter 2,0 mg de vitamina B2(riboflavina) e a DDR é de 0,0030 g/dia. Quantas dessas cápsulas uma pessoa deverá tomar a cada dia para obter a quantidade adequada dessa vitamina, se não receber nada de outras fontes? \n",
    "\n",
    "   * Convertendo de milígramas para gramas :\n",
    "      \n",
    "      1mg = $10^{-3}g$\n",
    "      \n",
    "      3mg = $3(10^{-3})g$\n",
    "\n",
    "      $\\frac{3mg}{2mg}$ a quantidades de capsulas é 1,5.\n",
    "\n",
    "      1g = $10^{3}mg$\n",
    "    \n",
    "\n",
    "\n",
    "  \n",
    " * (d) A DDR para o microelemento selênio é 0,000070 g/dia. Expresse essa dose em mg/dia.\n",
    "\n",
    "    1mg = $(10^{3})g$\n",
    "\n",
    "    $\\frac{0,000070mg}{dia} \\Rightarrow \\frac{(0,00007)(10^{3})g}{d} $.\n",
    "    $\\frac{0,07g}{dia}$\n",
    "\n",
    "    "
   ]
  },
  {
   "cell_type": "code",
   "execution_count": 20,
   "metadata": {},
   "outputs": [
    {
     "name": "stdout",
     "output_type": "stream",
     "text": [
      "0.00g/d\n",
      "0.012g/d\n",
      "1.5/d\n"
     ]
    }
   ],
   "source": [
    "\n",
    "# A dose diária recomendada (DDR) do metal demagnésio é 410 mg/dia para homens. Expresse essa quantidade em g/dia.\n",
    "dosagem = float(input('digite o valor de a densidade em g/cm'))\n",
    "dosagemF = dosagem * 10**-3\n",
    "print(f'{dosagemF:.2f}g/d')\n",
    "\n",
    "#\n",
    "peso = float(input('digite o valor de a densidade em g/cm'))\n",
    "dosagemAoDia = (peso * 12)*10**-3\n",
    "print(f'{dosagemAoDia}g/d')\n",
    "\n",
    "#\n",
    "dosagemG = float(input('digite o valor de a densidade em g/cm'))\n",
    "dosagemG = dosagemG * 10**-3\n",
    "caps = 0.003/dosagemG\n",
    "print(f'{caps}/d')"
   ]
  },
  {
   "cell_type": "markdown",
   "metadata": {},
   "source": [
    "# Seção 1.5 Incerteza e algarismos significativos"
   ]
  },
  {
   "cell_type": "markdown",
   "metadata": {},
   "source": [
    "#### Usando uma régua de madeira, você mede o comprimento de uma placa metálica retangular e encontra 12 mm. Usando um micrômetro para medir a largura da placa, você encontra 5,98 mm. Forneça as respostas dos seguintes itens com o número correto de algarismos significativos.\n",
    "   c = 12mm\n",
    "\n",
    "   l = 5,98mm\n",
    " * (a) Qual a área do retângulo?\n",
    "   \n",
    "   $A_{r} = (c \\times l)mm^{2} \\Rightarrow (12 \\times 5,98)mm~^{2}$\n",
    "\n",
    "   $A_{r} = 71,76mm^{2}$\n",
    "\n",
    "\n",
    " * (b) Qual a razão entre a largura do retângulo e seu comprimento? \n",
    " \n",
    "    $\\frac{l}{c} = \\frac{5,98}{12} \\approx{0,49}$\n",
    "\n",
    " * (c) Qual o perímetro do retângulo? \n",
    "\n",
    "    $2p = 2c + 2l \\Rightarrow 2(12mm) + 2(5,98mm) \\Rightarrow 24mm + 11,96mm \\Rightarrow 2p = 35,96mm$\n",
    "\n",
    " * (d) Qual a diferença entre o comprimento do retângulo e sua largura?\n",
    "   \n",
    "      $c - l = 12mm - 5,98mm \\Rightarrow c - l = 6,02mm$\n",
    " * (e) Qual a razão entre o comprimento do retângulo e sua largura?\n",
    "\n",
    "     $\\frac{c}{l} = \\frac{12}{5,98} \\approx{2,00}$\n"
   ]
  },
  {
   "cell_type": "code",
   "execution_count": 19,
   "metadata": {},
   "outputs": [
    {
     "name": "stdout",
     "output_type": "stream",
     "text": [
      "comprimento = 12.0mm \n",
      "largura = 5.98mm\n",
      "area = 71.76m²\n",
      "l/c = 0.50\n",
      "2p = 35.96\n",
      "c - l = 6.02\n",
      "c/l = 2.01\n"
     ]
    }
   ],
   "source": [
    "comprimento = float(input('digite o valor do comprimento em mm :')) # entrada do comprimento\n",
    "largura = float(input('digite o valor da largura em mm :')) # entrada da largura\n",
    "\n",
    "# (a) Qual a área do retângulo?\n",
    "area = comprimento * largura\n",
    "# (b) Qual a razão entre a largura do retângulo e seu comprimento? \n",
    "razaoLparaC = largura/comprimento;\n",
    "# (c) Qual o perímetro do retângulo\n",
    "perimetro = 2*comprimento + 2*largura;\n",
    "# (d) Qual a diferença entre o comprimento do retângulo e sua largura?\n",
    "difCemL = comprimento - largura\n",
    "# (e) Qual a razão entre o comprimento do retângulo e sua largura?\n",
    "razaoCparaL = comprimento/largura\n",
    "print(f'comprimento = {comprimento}mm \\nlargura = {largura}mm\\narea = {area}m²\\nl/c = {razaoLparaC:.2f}\\n2p = {perimetro}\\nc - l = {difCemL}\\nc/l = {razaoCparaL:.2f}')\n"
   ]
  },
  {
   "cell_type": "markdown",
   "metadata": {},
   "source": [
    "# Seção 1.6 Estimativas e ordens de grandeza"
   ]
  },
  {
   "cell_type": "markdown",
   "metadata": {},
   "source": [
    "#### Quantos litros de gasolina são consumidos no Brasilem um dia? Suponha que haja um carro para cada quatro pessoas, que cada carro seja dirigido por uma média de 10.000 quilômetros por ano e que um carro percorra em média 14 quilômetros por litro de gasolina.\n",
    "\n",
    "* $x_{total} = 213300000$\n",
    "* $Q_{carros}= \\frac{23300000}{4} \\Rightarrow Q_{carros}= 57825000 $\n",
    "* $D_{medio} = \\frac{10000}{ano} \\Rightarrow \\frac{10000}{365d} \\Rightarrow S_{medio} = \\frac{27,39km}{d} $\n",
    "* $G_{litros} =  \\frac{14km}{l}$\n",
    "* Consumo em litros ao dia :\n",
    "\n",
    "    $Consu_{l/d} = \\frac{\\frac{27,39km}{d}}{\\frac{14km}{l}} \\Rightarrow Consu_{l/d} = 1,6L/d$\n",
    "*Consumo de todos brasilheiros no dia :\n",
    "    $Consu_{t} = Consu_{l/d} * 5325000carros \\Rightarrow Consu_{t} = 104517000L/d $\n",
    "\n"
   ]
  },
  {
   "cell_type": "code",
   "execution_count": 32,
   "metadata": {},
   "outputs": [
    {
     "name": "stdout",
     "output_type": "stream",
     "text": [
      "104354207.4363992\n"
     ]
    }
   ],
   "source": [
    "população = float(input('digite a população :')) \n",
    "Qcarros = float(input('digite a quantidade de carros :')) \n",
    "deslocamento_medio = float(input('deslocamento medio em km/ano'))\n",
    "Consumo_em_distancia = float(input('digite o consumo em Km/litros : '))\n",
    "\n",
    "carros = população / Qcarros\n",
    "\n",
    "Deslocamento_ao_dia = deslocamento_medio/365;\n",
    "\n",
    "Consumo_ao_dia = Deslocamento_ao_dia/Consumo_em_distancia;\n",
    "\n",
    "Consumo_total =  Consumo_ao_dia*carros\n"
   ]
  },
  {
   "cell_type": "markdown",
   "metadata": {},
   "source": [
    "#### Você está usando gotas de água para diluir pequenasquantidades de um produto químico no laboratório. Quantas gotas de água há em uma garrafa de 1 L? (Dica: comece estimando o diâmetro de uma gota de água.)\n",
    "\n",
    "consideramos o diametro da gota sendo = 1cm e o raio é 0,5cm\n",
    "\n",
    "$V_{s} = \\frac{4}{3}\\pi{r^{3}} \\Rightarrow  \\frac{4}{3}\\pi{0,125cm^{3}} \\Rightarrow V_{s} = 0.5235cm^{3}$\n",
    "\n",
    "$Gotas = \\frac{1000cm^{3}}{0.5235cm^{3}} \\Rightarrow Gotas = 1909.8548gotas$"
   ]
  },
  {
   "cell_type": "code",
   "execution_count": 33,
   "metadata": {},
   "outputs": [
    {
     "name": "stdout",
     "output_type": "stream",
     "text": [
      "1909.8593171027442\n"
     ]
    }
   ],
   "source": [
    "from math import pi;\n",
    "\n",
    "\n",
    "\n",
    "diametro = float(input('coloque o diametro em cm^3 :'))\n",
    "raio = diametro/2\n",
    "volume = (4/3)*pi*raio**3\n",
    "Qgotas = 1000/volume\n",
    "print(Qgotas)"
   ]
  }
 ],
 "metadata": {
  "kernelspec": {
   "display_name": "Python 3",
   "language": "python",
   "name": "python3"
  },
  "language_info": {
   "codemirror_mode": {
    "name": "ipython",
    "version": 3
   },
   "file_extension": ".py",
   "mimetype": "text/x-python",
   "name": "python",
   "nbconvert_exporter": "python",
   "pygments_lexer": "ipython3",
   "version": "3.12.0"
  }
 },
 "nbformat": 4,
 "nbformat_minor": 2
}
